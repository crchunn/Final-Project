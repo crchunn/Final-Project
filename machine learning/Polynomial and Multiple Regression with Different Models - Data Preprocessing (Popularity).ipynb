{
 "cells": [
  {
   "cell_type": "code",
   "execution_count": 1,
   "metadata": {},
   "outputs": [],
   "source": [
    "import matplotlib.pyplot as plt\n",
    "import numpy as np\n",
    "import pandas as pd"
   ]
  },
  {
   "cell_type": "code",
   "execution_count": 2,
   "metadata": {},
   "outputs": [
    {
     "data": {
      "text/html": [
       "<div>\n",
       "<style scoped>\n",
       "    .dataframe tbody tr th:only-of-type {\n",
       "        vertical-align: middle;\n",
       "    }\n",
       "\n",
       "    .dataframe tbody tr th {\n",
       "        vertical-align: top;\n",
       "    }\n",
       "\n",
       "    .dataframe thead th {\n",
       "        text-align: right;\n",
       "    }\n",
       "</style>\n",
       "<table border=\"1\" class=\"dataframe\">\n",
       "  <thead>\n",
       "    <tr style=\"text-align: right;\">\n",
       "      <th></th>\n",
       "      <th>Unnamed: 0</th>\n",
       "      <th>year</th>\n",
       "      <th>acousticness</th>\n",
       "      <th>danceability</th>\n",
       "      <th>duration_ms</th>\n",
       "      <th>energy</th>\n",
       "      <th>instrumentalness</th>\n",
       "      <th>liveness</th>\n",
       "      <th>loudness</th>\n",
       "      <th>speechiness</th>\n",
       "      <th>tempo</th>\n",
       "      <th>valence</th>\n",
       "      <th>popularity</th>\n",
       "      <th>key</th>\n",
       "      <th>mode</th>\n",
       "    </tr>\n",
       "  </thead>\n",
       "  <tbody>\n",
       "    <tr>\n",
       "      <th>0</th>\n",
       "      <td>79</td>\n",
       "      <td>2000</td>\n",
       "      <td>0.286654</td>\n",
       "      <td>0.589039</td>\n",
       "      <td>242958.0720</td>\n",
       "      <td>0.622223</td>\n",
       "      <td>0.099790</td>\n",
       "      <td>0.200918</td>\n",
       "      <td>-8.288862</td>\n",
       "      <td>0.089854</td>\n",
       "      <td>118.932672</td>\n",
       "      <td>0.557350</td>\n",
       "      <td>46.3125</td>\n",
       "      <td>7</td>\n",
       "      <td>1</td>\n",
       "    </tr>\n",
       "    <tr>\n",
       "      <th>1</th>\n",
       "      <td>80</td>\n",
       "      <td>2001</td>\n",
       "      <td>0.270392</td>\n",
       "      <td>0.585933</td>\n",
       "      <td>241011.5400</td>\n",
       "      <td>0.638172</td>\n",
       "      <td>0.094754</td>\n",
       "      <td>0.187240</td>\n",
       "      <td>-8.051444</td>\n",
       "      <td>0.091257</td>\n",
       "      <td>117.903201</td>\n",
       "      <td>0.550953</td>\n",
       "      <td>48.6245</td>\n",
       "      <td>7</td>\n",
       "      <td>1</td>\n",
       "    </tr>\n",
       "    <tr>\n",
       "      <th>2</th>\n",
       "      <td>81</td>\n",
       "      <td>2002</td>\n",
       "      <td>0.275409</td>\n",
       "      <td>0.578628</td>\n",
       "      <td>239810.2355</td>\n",
       "      <td>0.651352</td>\n",
       "      <td>0.081103</td>\n",
       "      <td>0.195589</td>\n",
       "      <td>-7.517304</td>\n",
       "      <td>0.083809</td>\n",
       "      <td>119.560700</td>\n",
       "      <td>0.547840</td>\n",
       "      <td>48.2020</td>\n",
       "      <td>7</td>\n",
       "      <td>1</td>\n",
       "    </tr>\n",
       "    <tr>\n",
       "      <th>3</th>\n",
       "      <td>82</td>\n",
       "      <td>2003</td>\n",
       "      <td>0.247379</td>\n",
       "      <td>0.576633</td>\n",
       "      <td>245057.7080</td>\n",
       "      <td>0.666178</td>\n",
       "      <td>0.080685</td>\n",
       "      <td>0.195467</td>\n",
       "      <td>-7.359409</td>\n",
       "      <td>0.092316</td>\n",
       "      <td>121.006536</td>\n",
       "      <td>0.534943</td>\n",
       "      <td>48.4045</td>\n",
       "      <td>7</td>\n",
       "      <td>1</td>\n",
       "    </tr>\n",
       "    <tr>\n",
       "      <th>4</th>\n",
       "      <td>83</td>\n",
       "      <td>2004</td>\n",
       "      <td>0.264210</td>\n",
       "      <td>0.572262</td>\n",
       "      <td>239908.2885</td>\n",
       "      <td>0.660553</td>\n",
       "      <td>0.069287</td>\n",
       "      <td>0.202255</td>\n",
       "      <td>-7.358680</td>\n",
       "      <td>0.093820</td>\n",
       "      <td>121.676676</td>\n",
       "      <td>0.530876</td>\n",
       "      <td>48.9740</td>\n",
       "      <td>7</td>\n",
       "      <td>1</td>\n",
       "    </tr>\n",
       "  </tbody>\n",
       "</table>\n",
       "</div>"
      ],
      "text/plain": [
       "   Unnamed: 0  year  acousticness  danceability  duration_ms    energy  \\\n",
       "0          79  2000      0.286654      0.589039  242958.0720  0.622223   \n",
       "1          80  2001      0.270392      0.585933  241011.5400  0.638172   \n",
       "2          81  2002      0.275409      0.578628  239810.2355  0.651352   \n",
       "3          82  2003      0.247379      0.576633  245057.7080  0.666178   \n",
       "4          83  2004      0.264210      0.572262  239908.2885  0.660553   \n",
       "\n",
       "   instrumentalness  liveness  loudness  speechiness       tempo   valence  \\\n",
       "0          0.099790  0.200918 -8.288862     0.089854  118.932672  0.557350   \n",
       "1          0.094754  0.187240 -8.051444     0.091257  117.903201  0.550953   \n",
       "2          0.081103  0.195589 -7.517304     0.083809  119.560700  0.547840   \n",
       "3          0.080685  0.195467 -7.359409     0.092316  121.006536  0.534943   \n",
       "4          0.069287  0.202255 -7.358680     0.093820  121.676676  0.530876   \n",
       "\n",
       "   popularity  key  mode  \n",
       "0     46.3125    7     1  \n",
       "1     48.6245    7     1  \n",
       "2     48.2020    7     1  \n",
       "3     48.4045    7     1  \n",
       "4     48.9740    7     1  "
      ]
     },
     "execution_count": 2,
     "metadata": {},
     "output_type": "execute_result"
    }
   ],
   "source": [
    "# Read the csv file into a pandas DataFrame\n",
    "music_df = pd.read_csv('dataY.csv')\n",
    "music_df.head()"
   ]
  },
  {
   "cell_type": "code",
   "execution_count": 3,
   "metadata": {},
   "outputs": [],
   "source": [
    "del music_df['Unnamed: 0']\n",
    "music_df.head()"
   ]
  },
  {
   "cell_type": "code",
   "execution_count": 4,
   "metadata": {},
   "outputs": [
    {
     "data": {
      "text/html": [
       "<div>\n",
       "<style scoped>\n",
       "    .dataframe tbody tr th:only-of-type {\n",
       "        vertical-align: middle;\n",
       "    }\n",
       "\n",
       "    .dataframe tbody tr th {\n",
       "        vertical-align: top;\n",
       "    }\n",
       "\n",
       "    .dataframe thead th {\n",
       "        text-align: right;\n",
       "    }\n",
       "</style>\n",
       "<table border=\"1\" class=\"dataframe\">\n",
       "  <thead>\n",
       "    <tr style=\"text-align: right;\">\n",
       "      <th></th>\n",
       "      <th>Unnamed: 0</th>\n",
       "      <th>year</th>\n",
       "      <th>acousticness</th>\n",
       "      <th>danceability</th>\n",
       "      <th>duration_ms</th>\n",
       "      <th>energy</th>\n",
       "      <th>instrumentalness</th>\n",
       "      <th>liveness</th>\n",
       "      <th>loudness</th>\n",
       "      <th>speechiness</th>\n",
       "      <th>tempo</th>\n",
       "      <th>valence</th>\n",
       "      <th>popularity</th>\n",
       "      <th>key</th>\n",
       "      <th>mode</th>\n",
       "    </tr>\n",
       "  </thead>\n",
       "  <tbody>\n",
       "    <tr>\n",
       "      <th>0</th>\n",
       "      <td>79</td>\n",
       "      <td>2000</td>\n",
       "      <td>0.286654</td>\n",
       "      <td>0.589039</td>\n",
       "      <td>242958.0720</td>\n",
       "      <td>0.622223</td>\n",
       "      <td>0.099790</td>\n",
       "      <td>0.200918</td>\n",
       "      <td>-8.288862</td>\n",
       "      <td>0.089854</td>\n",
       "      <td>118.932672</td>\n",
       "      <td>0.557350</td>\n",
       "      <td>46.3125</td>\n",
       "      <td>7</td>\n",
       "      <td>1</td>\n",
       "    </tr>\n",
       "    <tr>\n",
       "      <th>1</th>\n",
       "      <td>80</td>\n",
       "      <td>2001</td>\n",
       "      <td>0.270392</td>\n",
       "      <td>0.585933</td>\n",
       "      <td>241011.5400</td>\n",
       "      <td>0.638172</td>\n",
       "      <td>0.094754</td>\n",
       "      <td>0.187240</td>\n",
       "      <td>-8.051444</td>\n",
       "      <td>0.091257</td>\n",
       "      <td>117.903201</td>\n",
       "      <td>0.550953</td>\n",
       "      <td>48.6245</td>\n",
       "      <td>7</td>\n",
       "      <td>1</td>\n",
       "    </tr>\n",
       "    <tr>\n",
       "      <th>2</th>\n",
       "      <td>81</td>\n",
       "      <td>2002</td>\n",
       "      <td>0.275409</td>\n",
       "      <td>0.578628</td>\n",
       "      <td>239810.2355</td>\n",
       "      <td>0.651352</td>\n",
       "      <td>0.081103</td>\n",
       "      <td>0.195589</td>\n",
       "      <td>-7.517304</td>\n",
       "      <td>0.083809</td>\n",
       "      <td>119.560700</td>\n",
       "      <td>0.547840</td>\n",
       "      <td>48.2020</td>\n",
       "      <td>7</td>\n",
       "      <td>1</td>\n",
       "    </tr>\n",
       "    <tr>\n",
       "      <th>3</th>\n",
       "      <td>82</td>\n",
       "      <td>2003</td>\n",
       "      <td>0.247379</td>\n",
       "      <td>0.576633</td>\n",
       "      <td>245057.7080</td>\n",
       "      <td>0.666178</td>\n",
       "      <td>0.080685</td>\n",
       "      <td>0.195467</td>\n",
       "      <td>-7.359409</td>\n",
       "      <td>0.092316</td>\n",
       "      <td>121.006536</td>\n",
       "      <td>0.534943</td>\n",
       "      <td>48.4045</td>\n",
       "      <td>7</td>\n",
       "      <td>1</td>\n",
       "    </tr>\n",
       "    <tr>\n",
       "      <th>4</th>\n",
       "      <td>83</td>\n",
       "      <td>2004</td>\n",
       "      <td>0.264210</td>\n",
       "      <td>0.572262</td>\n",
       "      <td>239908.2885</td>\n",
       "      <td>0.660553</td>\n",
       "      <td>0.069287</td>\n",
       "      <td>0.202255</td>\n",
       "      <td>-7.358680</td>\n",
       "      <td>0.093820</td>\n",
       "      <td>121.676676</td>\n",
       "      <td>0.530876</td>\n",
       "      <td>48.9740</td>\n",
       "      <td>7</td>\n",
       "      <td>1</td>\n",
       "    </tr>\n",
       "  </tbody>\n",
       "</table>\n",
       "</div>"
      ],
      "text/plain": [
       "   Unnamed: 0  year  acousticness  danceability  duration_ms    energy  \\\n",
       "0          79  2000      0.286654      0.589039  242958.0720  0.622223   \n",
       "1          80  2001      0.270392      0.585933  241011.5400  0.638172   \n",
       "2          81  2002      0.275409      0.578628  239810.2355  0.651352   \n",
       "3          82  2003      0.247379      0.576633  245057.7080  0.666178   \n",
       "4          83  2004      0.264210      0.572262  239908.2885  0.660553   \n",
       "\n",
       "   instrumentalness  liveness  loudness  speechiness       tempo   valence  \\\n",
       "0          0.099790  0.200918 -8.288862     0.089854  118.932672  0.557350   \n",
       "1          0.094754  0.187240 -8.051444     0.091257  117.903201  0.550953   \n",
       "2          0.081103  0.195589 -7.517304     0.083809  119.560700  0.547840   \n",
       "3          0.080685  0.195467 -7.359409     0.092316  121.006536  0.534943   \n",
       "4          0.069287  0.202255 -7.358680     0.093820  121.676676  0.530876   \n",
       "\n",
       "   popularity  key  mode  \n",
       "0     46.3125    7     1  \n",
       "1     48.6245    7     1  \n",
       "2     48.2020    7     1  \n",
       "3     48.4045    7     1  \n",
       "4     48.9740    7     1  "
      ]
     },
     "execution_count": 4,
     "metadata": {},
     "output_type": "execute_result"
    }
   ],
   "source": [
    "# Use Pandas get_dummies to convert categorical data\n",
    "music_df = pd.get_dummies(music_df)\n",
    "music_df.head()"
   ]
  },
  {
   "cell_type": "code",
   "execution_count": 5,
   "metadata": {},
   "outputs": [
    {
     "name": "stdout",
     "output_type": "stream",
     "text": [
      "(21, 13) (21, 1)\n"
     ]
    }
   ],
   "source": [
    "# Assign x (data) and y (target)\n",
    "X = music_df[['acousticness', 'danceability', 'duration_ms', 'energy', 'instrumentalness', 'key', 'liveness', 'loudness', 'mode', 'year', 'speechiness', 'tempo', 'valence']]\n",
    "y = music_df[\"popularity\"].values.reshape(-1, 1)\n",
    "print(X.shape, y.shape)"
   ]
  },
  {
   "cell_type": "code",
   "execution_count": 6,
   "metadata": {},
   "outputs": [],
   "source": [
    "# Split the data into training and testing\n",
    "from sklearn.model_selection import train_test_split\n",
    "\n",
    "X_train, X_test, y_train, y_test = train_test_split(X, y, random_state=33)"
   ]
  },
  {
   "cell_type": "code",
   "execution_count": 7,
   "metadata": {},
   "outputs": [],
   "source": [
    "from sklearn.preprocessing import StandardScaler\n",
    "\n",
    "# Create a StandardScater model and fit it to the training data\n",
    "\n",
    "X_scaler = StandardScaler().fit(X_train)\n",
    "y_scaler = StandardScaler().fit(y_train)"
   ]
  },
  {
   "cell_type": "code",
   "execution_count": 8,
   "metadata": {},
   "outputs": [],
   "source": [
    "# Transform the training and testing data using the X_scaler and y_scaler models\n",
    "\n",
    "X_train_scaled = X_scaler.transform(X_train)\n",
    "X_test_scaled = X_scaler.transform(X_test)\n",
    "y_train_scaled = y_scaler.transform(y_train)\n",
    "y_test_scaled = y_scaler.transform(y_test)"
   ]
  },
  {
   "cell_type": "code",
   "execution_count": 9,
   "metadata": {},
   "outputs": [
    {
     "data": {
      "text/plain": [
       "LinearRegression()"
      ]
     },
     "execution_count": 9,
     "metadata": {},
     "output_type": "execute_result"
    }
   ],
   "source": [
    "# Create a LinearRegression model and fit it to the scaled training data\n",
    "\n",
    "from sklearn.linear_model import LinearRegression\n",
    "model = LinearRegression()\n",
    "model.fit(X_train_scaled, y_train_scaled)"
   ]
  },
  {
   "cell_type": "code",
   "execution_count": 10,
   "metadata": {},
   "outputs": [
    {
     "data": {
      "image/png": "[encoded data removed]",
      "text/plain": [
       "<Figure size 432x288 with 1 Axes>"
      ]
     },
     "metadata": {
      "needs_background": "light"
     },
     "output_type": "display_data"
    }
   ],
   "source": [
    "# Make predictions using a fitted model\n",
    "# Plot the difference between the model predicted values and actual y values, versus the model predicted values\n",
    "\n",
    "predictions = model.predict(X_test_scaled)\n",
    "model.fit(X_train_scaled, y_train_scaled)\n",
    "plt.scatter(model.predict(X_train_scaled), model.predict(X_train_scaled) - y_train_scaled, c=\"blue\", label=\"Training Data\")\n",
    "plt.scatter(model.predict(X_test_scaled), model.predict(X_test_scaled) - y_test_scaled, c=\"orange\", label=\"Testing Data\")\n",
    "plt.legend()\n",
    "plt.hlines(y=0, xmin=y_test_scaled.min(), xmax=y_test_scaled.max())\n",
    "plt.title(\"Residual Plot\")\n",
    "plt.show()"
   ]
  },
  {
   "cell_type": "code",
   "execution_count": 11,
   "metadata": {},
   "outputs": [
    {
     "name": "stdout",
     "output_type": "stream",
     "text": [
      "MSE: 0.34646745761649095, R2: 0.7978716295412767\n"
     ]
    }
   ],
   "source": [
    "# Used X_test_scaled, y_test_scaled, and model.predict(X_test_scaled) to calculate MSE and R2\n",
    "\n",
    "from sklearn.metrics import mean_squared_error\n",
    "\n",
    "MSE = mean_squared_error(y_test_scaled, predictions)\n",
    "r2 = model.score(X_test_scaled, y_test_scaled)\n",
    "\n",
    "print(f\"MSE: {MSE}, R2: {r2}\")"
   ]
  },
  {
   "cell_type": "code",
   "execution_count": 12,
   "metadata": {},
   "outputs": [
    {
     "name": "stdout",
     "output_type": "stream",
     "text": [
      "MSE: 0.08986751433388074, R2: 0.9475714851996574\n"
     ]
    }
   ],
   "source": [
    "# LASSO model\n",
    "# Note: Use an alpha of .01 when creating the model for this activity\n",
    "from sklearn.linear_model import Lasso\n",
    "\n",
    "lasso = Lasso(alpha=.01).fit(X_train_scaled, y_train_scaled)\n",
    "\n",
    "predictions = lasso.predict(X_test_scaled)\n",
    "\n",
    "MSE = mean_squared_error(y_test_scaled, predictions)\n",
    "r2 = lasso.score(X_test_scaled, y_test_scaled)\n",
    "\n",
    "print(f\"MSE: {MSE}, R2: {r2}\")"
   ]
  },
  {
   "cell_type": "code",
   "execution_count": 13,
   "metadata": {},
   "outputs": [
    {
     "name": "stdout",
     "output_type": "stream",
     "text": [
      "MSE: 0.3209549902038626, R2: 0.8127555482214662\n"
     ]
    }
   ],
   "source": [
    "# Ridge model\n",
    "from sklearn.linear_model import Ridge\n",
    "\n",
    "ridge = Ridge(alpha=.01).fit(X_train_scaled, y_train_scaled)\n",
    "\n",
    "predictions = ridge.predict(X_test_scaled)\n",
    "\n",
    "MSE = mean_squared_error(y_test_scaled, predictions)\n",
    "r2 = ridge.score(X_test_scaled, y_test_scaled)\n",
    "\n",
    "print(f\"MSE: {MSE}, R2: {r2}\")"
   ]
  },
  {
   "cell_type": "code",
   "execution_count": 14,
   "metadata": {},
   "outputs": [
    {
     "name": "stdout",
     "output_type": "stream",
     "text": [
      "MSE: 0.09873173687384362, R2: 0.942400116812819\n"
     ]
    }
   ],
   "source": [
    "# ElasticNet model\n",
    "from sklearn.linear_model import ElasticNet\n",
    "\n",
    "elasticnet = ElasticNet(alpha=.01).fit(X_train_scaled, y_train_scaled)\n",
    "\n",
    "predictions = elasticnet.predict(X_test_scaled)\n",
    "\n",
    "MSE = mean_squared_error(y_test_scaled, predictions)\n",
    "r2 = elasticnet.score(X_test_scaled, y_test_scaled)\n",
    "\n",
    "print(f\"MSE: {MSE}, R2: {r2}\")"
   ]
  },
  {
   "cell_type": "code",
   "execution_count": null,
   "metadata": {},
   "outputs": [],
   "source": []
  }
 ],
 "metadata": {
  "kernelspec": {
   "display_name": "Python [conda env:PythonAdv]",
   "language": "python",
   "name": "conda-env-PythonAdv-py"
  },
  "language_info": {
   "codemirror_mode": {
    "name": "ipython",
    "version": 3
   },
   "file_extension": ".py",
   "mimetype": "text/x-python",
   "name": "python",
   "nbconvert_exporter": "python",
   "pygments_lexer": "ipython3",
   "version": "3.6.12"
  }
 },
 "nbformat": 4,
 "nbformat_minor": 4
}
