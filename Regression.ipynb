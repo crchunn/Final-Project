{
 "cells": [
  {
   "cell_type": "code",
   "execution_count": 1,
   "metadata": {},
   "outputs": [],
   "source": [
    "# Dependencies and Setup\n",
    "import matplotlib.pyplot as plt\n",
    "import pandas as pd\n",
    "import numpy as np\n",
    "import requests\n",
    "import time\n",
    "from scipy.stats import linregress\n",
    "import os"
   ]
  },
  {
   "cell_type": "code",
   "execution_count": 2,
   "metadata": {},
   "outputs": [
    {
     "data": {
      "text/html": [
       "<div>\n",
       "<style scoped>\n",
       "    .dataframe tbody tr th:only-of-type {\n",
       "        vertical-align: middle;\n",
       "    }\n",
       "\n",
       "    .dataframe tbody tr th {\n",
       "        vertical-align: top;\n",
       "    }\n",
       "\n",
       "    .dataframe thead th {\n",
       "        text-align: right;\n",
       "    }\n",
       "</style>\n",
       "<table border=\"1\" class=\"dataframe\">\n",
       "  <thead>\n",
       "    <tr style=\"text-align: right;\">\n",
       "      <th></th>\n",
       "      <th>Unnamed: 0</th>\n",
       "      <th>year</th>\n",
       "      <th>acousticness</th>\n",
       "      <th>danceability</th>\n",
       "      <th>duration_ms</th>\n",
       "      <th>energy</th>\n",
       "      <th>instrumentalness</th>\n",
       "      <th>liveness</th>\n",
       "      <th>loudness</th>\n",
       "      <th>speechiness</th>\n",
       "      <th>tempo</th>\n",
       "      <th>valence</th>\n",
       "      <th>popularity</th>\n",
       "      <th>key</th>\n",
       "      <th>mode</th>\n",
       "    </tr>\n",
       "  </thead>\n",
       "  <tbody>\n",
       "    <tr>\n",
       "      <th>0</th>\n",
       "      <td>79</td>\n",
       "      <td>2000</td>\n",
       "      <td>0.286654</td>\n",
       "      <td>0.589039</td>\n",
       "      <td>242958.0720</td>\n",
       "      <td>0.622223</td>\n",
       "      <td>0.099790</td>\n",
       "      <td>0.200918</td>\n",
       "      <td>-8.288862</td>\n",
       "      <td>0.089854</td>\n",
       "      <td>118.932672</td>\n",
       "      <td>0.557350</td>\n",
       "      <td>46.3125</td>\n",
       "      <td>7</td>\n",
       "      <td>1</td>\n",
       "    </tr>\n",
       "    <tr>\n",
       "      <th>1</th>\n",
       "      <td>80</td>\n",
       "      <td>2001</td>\n",
       "      <td>0.270392</td>\n",
       "      <td>0.585933</td>\n",
       "      <td>241011.5400</td>\n",
       "      <td>0.638172</td>\n",
       "      <td>0.094754</td>\n",
       "      <td>0.187240</td>\n",
       "      <td>-8.051444</td>\n",
       "      <td>0.091257</td>\n",
       "      <td>117.903201</td>\n",
       "      <td>0.550953</td>\n",
       "      <td>48.6245</td>\n",
       "      <td>7</td>\n",
       "      <td>1</td>\n",
       "    </tr>\n",
       "    <tr>\n",
       "      <th>2</th>\n",
       "      <td>81</td>\n",
       "      <td>2002</td>\n",
       "      <td>0.275409</td>\n",
       "      <td>0.578628</td>\n",
       "      <td>239810.2355</td>\n",
       "      <td>0.651352</td>\n",
       "      <td>0.081103</td>\n",
       "      <td>0.195589</td>\n",
       "      <td>-7.517304</td>\n",
       "      <td>0.083809</td>\n",
       "      <td>119.560700</td>\n",
       "      <td>0.547840</td>\n",
       "      <td>48.2020</td>\n",
       "      <td>7</td>\n",
       "      <td>1</td>\n",
       "    </tr>\n",
       "    <tr>\n",
       "      <th>3</th>\n",
       "      <td>82</td>\n",
       "      <td>2003</td>\n",
       "      <td>0.247379</td>\n",
       "      <td>0.576633</td>\n",
       "      <td>245057.7080</td>\n",
       "      <td>0.666178</td>\n",
       "      <td>0.080685</td>\n",
       "      <td>0.195467</td>\n",
       "      <td>-7.359409</td>\n",
       "      <td>0.092316</td>\n",
       "      <td>121.006536</td>\n",
       "      <td>0.534943</td>\n",
       "      <td>48.4045</td>\n",
       "      <td>7</td>\n",
       "      <td>1</td>\n",
       "    </tr>\n",
       "    <tr>\n",
       "      <th>4</th>\n",
       "      <td>83</td>\n",
       "      <td>2004</td>\n",
       "      <td>0.264210</td>\n",
       "      <td>0.572262</td>\n",
       "      <td>239908.2885</td>\n",
       "      <td>0.660553</td>\n",
       "      <td>0.069287</td>\n",
       "      <td>0.202255</td>\n",
       "      <td>-7.358680</td>\n",
       "      <td>0.093820</td>\n",
       "      <td>121.676676</td>\n",
       "      <td>0.530876</td>\n",
       "      <td>48.9740</td>\n",
       "      <td>7</td>\n",
       "      <td>1</td>\n",
       "    </tr>\n",
       "  </tbody>\n",
       "</table>\n",
       "</div>"
      ],
      "text/plain": [
       "   Unnamed: 0  year  acousticness  danceability  duration_ms    energy  \\\n",
       "0          79  2000      0.286654      0.589039  242958.0720  0.622223   \n",
       "1          80  2001      0.270392      0.585933  241011.5400  0.638172   \n",
       "2          81  2002      0.275409      0.578628  239810.2355  0.651352   \n",
       "3          82  2003      0.247379      0.576633  245057.7080  0.666178   \n",
       "4          83  2004      0.264210      0.572262  239908.2885  0.660553   \n",
       "\n",
       "   instrumentalness  liveness  loudness  speechiness       tempo   valence  \\\n",
       "0          0.099790  0.200918 -8.288862     0.089854  118.932672  0.557350   \n",
       "1          0.094754  0.187240 -8.051444     0.091257  117.903201  0.550953   \n",
       "2          0.081103  0.195589 -7.517304     0.083809  119.560700  0.547840   \n",
       "3          0.080685  0.195467 -7.359409     0.092316  121.006536  0.534943   \n",
       "4          0.069287  0.202255 -7.358680     0.093820  121.676676  0.530876   \n",
       "\n",
       "   popularity  key  mode  \n",
       "0     46.3125    7     1  \n",
       "1     48.6245    7     1  \n",
       "2     48.2020    7     1  \n",
       "3     48.4045    7     1  \n",
       "4     48.9740    7     1  "
      ]
     },
     "execution_count": 2,
     "metadata": {},
     "output_type": "execute_result"
    }
   ],
   "source": [
    "music_df = pd.read_csv(os.path.join(\"dataY.csv\"))\n",
    "music_df.head()"
   ]
  },
  {
   "cell_type": "code",
   "execution_count": 3,
   "metadata": {},
   "outputs": [],
   "source": [
    "# Extract relevant fields from the data frame\n",
    "year = music_df[\"year\"]\n",
    "popularity = music_df[\"popularity\"]\n",
    "danceability = music_df[\"danceability\"]\n",
    "energy = music_df[\"energy\"]\n",
    "\n",
    "# Export the music into a csv\n",
    "# clean_city_data.to_csv(output_data_file, index_label=\"City_ID\")"
   ]
  },
  {
   "cell_type": "code",
   "execution_count": 8,
   "metadata": {},
   "outputs": [
    {
     "name": "stderr",
     "output_type": "stream",
     "text": [
      "ERROR:root:Internal Python error in the inspect module.\n",
      "Below is the traceback from this internal error.\n",
      "\n"
     ]
    },
    {
     "name": "stdout",
     "output_type": "stream",
     "text": [
      "Traceback (most recent call last):\n",
      "  File \"/Users/kevineggert/opt/anaconda3/envs/PythonData/lib/python3.6/site-packages/IPython/core/interactiveshell.py\", line 3331, in run_code\n",
      "    exec(code_obj, self.user_global_ns, self.user_ns)\n",
      "  File \"<ipython-input-8-bfba8ff2c8ce>\", line 14, in <module>\n",
      "    plt.savefig(\"../static/Images/Year vs. Popularity.png\")\n",
      "  File \"/Users/kevineggert/opt/anaconda3/envs/PythonData/lib/python3.6/site-packages/matplotlib/pyplot.py\", line 729, in savefig\n",
      "    res = fig.savefig(*args, **kwargs)\n",
      "  File \"/Users/kevineggert/opt/anaconda3/envs/PythonData/lib/python3.6/site-packages/matplotlib/figure.py\", line 2180, in savefig\n",
      "    self.canvas.print_figure(fname, **kwargs)\n",
      "  File \"/Users/kevineggert/opt/anaconda3/envs/PythonData/lib/python3.6/site-packages/matplotlib/backend_bases.py\", line 2091, in print_figure\n",
      "    **kwargs)\n",
      "  File \"/Users/kevineggert/opt/anaconda3/envs/PythonData/lib/python3.6/site-packages/matplotlib/backends/backend_agg.py\", line 530, in print_png\n",
      "    cbook.open_file_cm(filename_or_obj, \"wb\") as fh:\n",
      "  File \"/Users/kevineggert/opt/anaconda3/envs/PythonData/lib/python3.6/contextlib.py\", line 81, in __enter__\n",
      "    return next(self.gen)\n",
      "  File \"/Users/kevineggert/opt/anaconda3/envs/PythonData/lib/python3.6/site-packages/matplotlib/cbook/__init__.py\", line 447, in open_file_cm\n",
      "    fh, opened = to_filehandle(path_or_file, mode, True, encoding)\n",
      "  File \"/Users/kevineggert/opt/anaconda3/envs/PythonData/lib/python3.6/site-packages/matplotlib/cbook/__init__.py\", line 432, in to_filehandle\n",
      "    fh = open(fname, flag, encoding=encoding)\n",
      "FileNotFoundError: [Errno 2] No such file or directory: '../static/Images/Year vs. Popularity.png'\n",
      "\n",
      "During handling of the above exception, another exception occurred:\n",
      "\n",
      "Traceback (most recent call last):\n",
      "  File \"/Users/kevineggert/opt/anaconda3/envs/PythonData/lib/python3.6/site-packages/IPython/core/interactiveshell.py\", line 2044, in showtraceback\n",
      "    stb = value._render_traceback_()\n",
      "AttributeError: 'FileNotFoundError' object has no attribute '_render_traceback_'\n",
      "\n",
      "During handling of the above exception, another exception occurred:\n",
      "\n",
      "Traceback (most recent call last):\n",
      "  File \"/Users/kevineggert/opt/anaconda3/envs/PythonData/lib/python3.6/site-packages/IPython/core/ultratb.py\", line 1148, in get_records\n",
      "    return _fixed_getinnerframes(etb, number_of_lines_of_context, tb_offset)\n",
      "  File \"/Users/kevineggert/opt/anaconda3/envs/PythonData/lib/python3.6/site-packages/IPython/core/ultratb.py\", line 316, in wrapped\n",
      "    return f(*args, **kwargs)\n",
      "  File \"/Users/kevineggert/opt/anaconda3/envs/PythonData/lib/python3.6/site-packages/IPython/core/ultratb.py\", line 350, in _fixed_getinnerframes\n",
      "    records = fix_frame_records_filenames(inspect.getinnerframes(etb, context))\n",
      "  File \"/Users/kevineggert/opt/anaconda3/envs/PythonData/lib/python3.6/inspect.py\", line 1490, in getinnerframes\n",
      "    frameinfo = (tb.tb_frame,) + getframeinfo(tb, context)\n",
      "  File \"/Users/kevineggert/opt/anaconda3/envs/PythonData/lib/python3.6/inspect.py\", line 1448, in getframeinfo\n",
      "    filename = getsourcefile(frame) or getfile(frame)\n",
      "  File \"/Users/kevineggert/opt/anaconda3/envs/PythonData/lib/python3.6/inspect.py\", line 696, in getsourcefile\n",
      "    if getattr(getmodule(object, filename), '__loader__', None) is not None:\n",
      "  File \"/Users/kevineggert/opt/anaconda3/envs/PythonData/lib/python3.6/inspect.py\", line 725, in getmodule\n",
      "    file = getabsfile(object, _filename)\n",
      "  File \"/Users/kevineggert/opt/anaconda3/envs/PythonData/lib/python3.6/inspect.py\", line 709, in getabsfile\n",
      "    return os.path.normcase(os.path.abspath(_filename))\n",
      "  File \"/Users/kevineggert/opt/anaconda3/envs/PythonData/lib/python3.6/posixpath.py\", line 383, in abspath\n",
      "    cwd = os.getcwd()\n",
      "FileNotFoundError: [Errno 2] No such file or directory\n"
     ]
    },
    {
     "ename": "FileNotFoundError",
     "evalue": "[Errno 2] No such file or directory: '../static/Images/Year vs. Popularity.png'",
     "output_type": "error",
     "traceback": [
      "\u001b[0;31m---------------------------------------------------------------------------\u001b[0m"
     ]
    },
    {
     "data": {
      "image/png": "[encoded data removed]",
      "text/plain": [
       "<Figure size 432x288 with 1 Axes>"
      ]
     },
     "metadata": {
      "needs_background": "light"
     },
     "output_type": "display_data"
    }
   ],
   "source": [
    "# Build scatter plot for year vs. popularity\n",
    "plt.scatter(year, \n",
    "            popularity,\n",
    "            edgecolor=\"black\", linewidths=1, marker=\"o\", \n",
    "            label=\"Year\")\n",
    "\n",
    "# Incorporate the other graph properties\n",
    "plt.title(\"Year vs. Popularity\")\n",
    "plt.ylabel(\"Popularity\")\n",
    "plt.xlabel(\"Year\")\n",
    "plt.grid(True)\n",
    "\n",
    "# Save the figure\n",
    "plt.savefig(\"../static/Images/Year vs. Popularity.png\")\n",
    "\n",
    "# Show plot\n",
    "plt.show()"
   ]
  },
  {
   "cell_type": "code",
   "execution_count": 6,
   "metadata": {},
   "outputs": [
    {
     "data": {
      "image/png": "[encoded data removed]",
      "text/plain": [
       "<Figure size 432x288 with 1 Axes>"
      ]
     },
     "metadata": {
      "needs_background": "light"
     },
     "output_type": "display_data"
    }
   ],
   "source": [
    "# Build scatter plot for year vs. popularity\n",
    "plt.scatter(year, \n",
    "            danceability,\n",
    "            edgecolor=\"black\", linewidths=1, marker=\"o\", \n",
    "            label=\"Year\")\n",
    "\n",
    "# Incorporate the other graph properties\n",
    "plt.title(\"Year vs. Danceability\")\n",
    "plt.ylabel(\"Danceability\")\n",
    "plt.xlabel(\"Year\")\n",
    "plt.grid(True)\n",
    "\n",
    "# Save the figure\n",
    "# plt.savefig(\"output_data/Fig1.png\")\n",
    "\n",
    "# Show plot\n",
    "plt.show()"
   ]
  },
  {
   "cell_type": "code",
   "execution_count": 7,
   "metadata": {},
   "outputs": [
    {
     "data": {
      "image/png": "[encoded data removed]",
      "text/plain": [
       "<Figure size 432x288 with 1 Axes>"
      ]
     },
     "metadata": {
      "needs_background": "light"
     },
     "output_type": "display_data"
    }
   ],
   "source": [
    "# Build scatter plot for year vs. popularity\n",
    "plt.scatter(year, \n",
    "            energy,\n",
    "            edgecolor=\"black\", linewidths=1, marker=\"o\", \n",
    "            label=\"Year\")\n",
    "\n",
    "# Incorporate the other graph properties\n",
    "plt.title(\"Year vs. Energy\")\n",
    "plt.ylabel(\"Energy\")\n",
    "plt.xlabel(\"Year\")\n",
    "plt.grid(True)\n",
    "\n",
    "# Save the figure\n",
    "# plt.savefig(\"output_data/Fig1.png\")\n",
    "\n",
    "# Show plot\n",
    "plt.show()"
   ]
  },
  {
   "cell_type": "code",
   "execution_count": null,
   "metadata": {},
   "outputs": [],
   "source": []
  }
 ],
 "metadata": {
  "kernelspec": {
   "display_name": "Python 3.6.10 64-bit ('PythonData': conda)",
   "language": "python",
   "name": "python361064bitpythondataconda6909e25a1b414d1abc12a833a9835204"
  },
  "language_info": {
   "codemirror_mode": {
    "name": "ipython",
    "version": 3
   },
   "file_extension": ".py",
   "mimetype": "text/x-python",
   "name": "python",
   "nbconvert_exporter": "python",
   "pygments_lexer": "ipython3",
   "version": "3.6.10"
  }
 },
 "nbformat": 4,
 "nbformat_minor": 4
}
